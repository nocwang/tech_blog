{
 "cells": [
  {
   "cell_type": "markdown",
   "id": "09927111",
   "metadata": {},
   "source": [
    "# Bayesian and Frequentist Approaches to A/B Testing"
   ]
  },
  {
   "cell_type": "markdown",
   "id": "0fab68a4",
   "metadata": {},
   "source": [
    "## 1. Problem Setup\n",
    "\n",
    "We run an **A/B test** to compare two variants (say, website versions A and B).\n",
    "\n",
    "Let  \n",
    "- $n_A, n_B$ = number of users exposed to A and B.  \n",
    "- $x_A, x_B$ = number of “successes” (e.g. clicks, purchases).  \n",
    "- $\\hat{p}_A = x_A / n_A,\\; \\hat{p}_B = x_B / n_B$ = observed sample proportions.  \n",
    "\n",
    "We want to infer something about the **true conversion rates** $p_A, p_B$.  "
   ]
  },
  {
   "cell_type": "markdown",
   "id": "069a80e8",
   "metadata": {},
   "source": [
    "## 2. Frequentist Approach\n",
    "\n",
    "### Hypotheses\n",
    "We test  \n",
    "$$H_0: p_A = p_B \\quad \\text{vs.} \\quad H_1: p_A \\neq p_B.$$  \n",
    "\n",
    "Or sometimes one-sided: $H_1: p_B > p_A$.  "
   ]
  },
  {
   "cell_type": "markdown",
   "id": "0a9c8203",
   "metadata": {},
   "source": [
    "### Test Statistic\n",
    "The difference in sample proportions:  \n",
    "$$\\hat{d} = \\hat{p}_B - \\hat{p}_A.$$  \n",
    "\n",
    "Under the null, the test statistic (approximate Z-score) is:  \n",
    "$$Z = \\frac{\\hat{p}_B - \\hat{p}_A}{\\sqrt{\\hat{p}(1-\\hat{p})(\\tfrac{1}{n_A}+\\tfrac{1}{n_B})}},$$  \n",
    "where $\\hat{p} = \\frac{x_A+x_B}{n_A+n_B}$ is the **pooled estimate** under $H_0$.  "
   ]
  },
  {
   "cell_type": "markdown",
   "id": "18b7d370",
   "metadata": {},
   "source": [
    "### Inference\n",
    "- Compute $Z$.  \n",
    "- Compare to critical values from standard normal, or compute $p$-value:  \n",
    "$$p\\text{-value} = \\mathbb{P}(|Z| > |z_{\\text{obs}}| \\mid H_0).$$  \n",
    "- Reject $H_0$ if $p < \\alpha$ (e.g., 0.05).  "
   ]
  },
  {
   "cell_type": "markdown",
   "id": "a4838c34",
   "metadata": {},
   "source": [
    "### Confidence Interval (CI) for difference\n",
    "$$\\hat{d} \\pm z_{1-\\alpha/2} \\cdot \\sqrt{\\frac{\\hat{p}_A(1-\\hat{p}_A)}{n_A} + \\frac{\\hat{p}_B(1-\\hat{p}_B)}{n_B}}.$$"
   ]
  },
  {
   "cell_type": "markdown",
   "id": "e3d9c35c",
   "metadata": {},
   "source": [
    "## 3. Bayesian Approach\n",
    "\n",
    "### Likelihood\n",
    "For each group:  \n",
    "$$x_A \\sim \\text{Binomial}(n_A, p_A), \\quad x_B \\sim \\text{Binomial}(n_B, p_B).$$  "
   ]
  },
  {
   "cell_type": "markdown",
   "id": "b7c2f1c3",
   "metadata": {},
   "source": [
    "### Priors\n",
    "Choose priors for $p_A, p_B$. A common choice:  \n",
    "$$p_A \\sim \\text{Beta}(\\alpha_A, \\beta_A), \\quad p_B \\sim \\text{Beta}(\\alpha_B, \\beta_B).$$  \n",
    "\n",
    "If uninformative: $\\text{Beta}(1,1)$ (uniform).  "
   ]
  },
  {
   "cell_type": "markdown",
   "id": "d1275c63",
   "metadata": {},
   "source": [
    "### Posteriors\n",
    "By conjugacy:  \n",
    "$$p_A \\mid \\text{data} \\sim \\text{Beta}(\\alpha_A + x_A, \\beta_A + n_A - x_A),$$  \n",
    "$$p_B \\mid \\text{data} \\sim \\text{Beta}(\\alpha_B + x_B, \\beta_B + n_B - x_B).$$  "
   ]
  },
  {
   "cell_type": "markdown",
   "id": "c85c471b",
   "metadata": {},
   "source": [
    "### Inference\n",
    "We want posterior probability that B is better than A:  \n",
    "$$\\Pr(p_B > p_A \\mid \\text{data}).$$  \n",
    "\n",
    "This generally requires simulation (Monte Carlo): draw many samples from the two posteriors and compute the proportion of draws with $p_B > p_A$.  \n",
    "\n",
    "Also, we can compute **credible intervals**:  \n",
    "- 95% CI = interval covering 95% posterior probability mass.  "
   ]
  },
  {
   "cell_type": "markdown",
   "id": "634432f6",
   "metadata": {},
   "source": [
    "### Decision Making\n",
    "- If $\\Pr(p_B > p_A \\mid \\text{data}) > 0.95$, declare B better.  \n",
    "- Or use **expected loss/utility** if costs of wrong decisions differ.  "
   ]
  },
  {
   "cell_type": "markdown",
   "id": "f8bb667f",
   "metadata": {},
   "source": [
    "## 4. Key Comparison\n",
    "\n",
    "| Aspect | Frequentist | Bayesian |\n",
    "|--------|-------------|----------|\n",
    "| Model of uncertainty | Randomness in data, parameters fixed | Parameters are random variables with distributions |\n",
    "| Output | $p$-value, confidence interval | Posterior distribution, credible interval |\n",
    "| Hypothesis | Tests $H_0$ vs. $H_1$ | Computes probability of hypotheses |\n",
    "| Example interpretation | “If $H_0$ is true, probability of data this extreme is 0.03” | “Probability that $p_B > p_A$ given data is 0.97” |\n",
    "| Computation | Closed-form Z-tests | Often simulation (MCMC or sampling) |"
   ]
  },
  {
   "cell_type": "markdown",
   "id": "2bf33ad0",
   "metadata": {},
   "source": [
    "## 5. Worked Example\n",
    "\n",
    "Suppose  \n",
    "- $n_A = n_B = 1000$,  \n",
    "- $x_A = 120$,  \n",
    "- $x_B = 150$.  \n",
    "\n",
    "### Frequentist Analysis\n",
    "$$\\hat{p}_A = 0.12, \\quad \\hat{p}_B = 0.15, \\quad \\hat{d} = 0.03.$$  \n",
    "\n",
    "Pooled estimate:  \n",
    "$$\\hat{p} = \\frac{120+150}{2000} = 0.135.$$  \n",
    "\n",
    "Standard error:  \n",
    "$$SE = \\sqrt{0.135 \\times 0.865 \\times (\\tfrac{1}{1000}+\\tfrac{1}{1000})} \\approx 0.015.$$  \n",
    "\n",
    "Z-score:  \n",
    "$$Z = \\frac{0.03}{0.015} = 2.0.$$  \n",
    "\n",
    "$p$-value (two-tailed) $\\approx 0.045$.  \n",
    "→ At $\\alpha=0.05$, we **just reject** $H_0$.  "
   ]
  },
  {
   "cell_type": "markdown",
   "id": "7aabf987",
   "metadata": {},
   "source": [
    "### Bayesian Analysis\n",
    "Use uniform priors: $\\text{Beta}(1,1)$.  \n",
    "\n",
    "Posterior distributions:  \n",
    "$$p_A \\sim \\text{Beta}(121, 881), \\quad p_B \\sim \\text{Beta}(151, 851).$$  \n",
    "\n",
    "Monte Carlo draws give:  \n",
    "- $\\Pr(p_B > p_A \\mid \\text{data}) \\approx 0.975$.  \n",
    "- 95% credible interval for difference roughly $[0.002, 0.058]$.  \n",
    "\n",
    "→ Bayesian result gives **stronger evidence** that B is better.  "
   ]
  },
  {
   "cell_type": "markdown",
   "id": "8c43e643",
   "metadata": {},
   "source": [
    "# Summary\n",
    "\n",
    "- **Frequentist A/B testing**: relies on null hypothesis testing, $p$-values, confidence intervals.  \n",
    "- **Bayesian A/B testing**: gives direct posterior probabilities and credible intervals, often easier to interpret.  \n",
    "- Both approaches can lead to similar conclusions, but differ in philosophy and interpretation.  "
   ]
  }
 ],
 "metadata": {},
 "nbformat": 4,
 "nbformat_minor": 5
}
