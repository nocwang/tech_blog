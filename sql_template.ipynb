{
 "cells": [
  {
   "cell_type": "markdown",
   "metadata": {},
   "source": [
    "# SQL Templates for Interview Prep\n",
    "Below are SQL templates using window functions like `ROW_NUMBER()`, `RANK()`, `DENSE_RANK()`, `NTILE()`, `SUM() OVER`, and `LAG()/LEAD()`. "
   ]
  },
  {
   "cell_type": "markdown",
   "metadata": {},
   "source": [
    "## 1. ROW_NUMBER() for Ranking Within Groups\n",
    "**Purpose**: Assigns a unique rank to each row within a partition, useful for identifying top-N records per group (e.g., top products by region).\n",
    "\n",
    "**Template**:\n",
    "```sql\n",
    "WITH RankedData AS (\n",
    "    SELECT column1, column2, AGGREGATE_FUNCTION(metric) as metric_value,\n",
    "           ROW_NUMBER() OVER (PARTITION BY partition_column ORDER BY metric DESC) as rn\n",
    "    FROM table_name\n",
    "    GROUP BY column1, column2, partition_column\n",
    ")\n",
    "SELECT column1, column2, metric_value\n",
    "FROM RankedData\n",
    "WHERE rn <= N;\n",
    "```\n",
    "\n",
    "**Example** (Top 2 employees by sales per department):\n",
    "```sql\n",
    "WITH RankedSales AS (\n",
    "    SELECT e.name, e.department, SUM(s.sales_amount) as total_sales,\n",
    "           ROW_NUMBER() OVER (PARTITION BY e.department ORDER BY SUM(s.sales_amount) DESC) as rn\n",
    "    FROM employees e\n",
    "    JOIN sales s ON e.id = s.employee_id\n",
    "    GROUP BY e.id, e.name, e.department\n",
    ")\n",
    "SELECT name, department, total_sales\n",
    "FROM RankedSales\n",
    "WHERE rn <= 2;\n",
    "```\n",
    "**When to Use**: When you need unique rankings (no ties) within groups, like top performers or products."
   ]
  },
  {
   "cell_type": "markdown",
   "metadata": {},
   "source": [
    "## 2. RANK() for Ranking with Ties\n",
    "**Purpose**: Assigns ranks to rows, with tied values getting the same rank and leaving gaps in the sequence (e.g., 1, 1, 3).\n",
    "\n",
    "**Template**:\n",
    "```sql\n",
    "SELECT column1, column2, metric,\n",
    "       RANK() OVER (PARTITION BY partition_column ORDER BY metric DESC) as rank\n",
    "FROM table_name\n",
    "WHERE rank <= N;\n",
    "```\n",
    "\n",
    "**Example** (Rank products by revenue, allowing ties):\n",
    "```sql\n",
    "SELECT p.product_name, s.region, SUM(s.revenue) as total_revenue,\n",
    "       RANK() OVER (PARTITION BY s.region ORDER BY SUM(s.revenue) DESC) as rank\n",
    "FROM sales s\n",
    "JOIN products p ON s.product_id = p.id\n",
    "GROUP BY p.product_name, s.region\n",
    "HAVING RANK() OVER (PARTITION BY s.region ORDER BY SUM(s.revenue) DESC) <= 3;\n",
    "```\n",
    "**When to Use**: When ties are expected, and you want gaps in rank (e.g., two products tied at rank 1, next is rank 3)."
   ]
  },
  {
   "cell_type": "markdown",
   "metadata": {},
   "source": [
    "## 3. DENSE_RANK() for Ranking Without Gaps\n",
    "**Purpose**: Similar to `RANK()`, but ranks are consecutive (e.g., 1, 1, 2) for ties.\n",
    "\n",
    "**Template**:\n",
    "```sql\n",
    "SELECT column1, column2, metric,\n",
    "       DENSE_RANK() OVER (PARTITION BY partition_column ORDER BY metric DESC) as dense_rank\n",
    "FROM table_name\n",
    "WHERE dense_rank <= N;\n",
    "```\n",
    "\n",
    "**Example** (Top 3 stores by sales volume, no rank gaps):\n",
    "```sql\n",
    "SELECT store_id, region, SUM(sales_volume) as total_volume,\n",
    "       DENSE_RANK() OVER (PARTITION BY region ORDER BY SUM(sales_volume) DESC) as dense_rank\n",
    "FROM store_sales\n",
    "GROUP BY store_id, region\n",
    "HAVING DENSE_RANK() OVER (PARTITION BY region ORDER BY SUM(sales_volume) DESC) <= 3;\n",
    "```\n",
    "**When to Use**: When you need consecutive ranks for ties, common in reports where gaps look awkward."
   ]
  },
  {
   "cell_type": "markdown",
   "metadata": {},
   "source": [
    "## 4. Running Total with SUM() OVER\n",
    "**Purpose**: Calculates cumulative totals over a sequence, often for time-series or ordered data.\n",
    "\n",
    "**Template**:\n",
    "```sql\n",
    "SELECT column1, date_column, metric,\n",
    "       SUM(metric) OVER (PARTITION BY partition_column ORDER BY order_column ROWS UNBOUNDED PRECEDING) as running_total\n",
    "FROM table_name\n",
    "ORDER BY partition_column, order_column;\n",
    "```\n",
    "\n",
    "**Example** (Running total of expenses by department over time):\n",
    "```sql\n",
    "SELECT department, expense_date, amount,\n",
    "       SUM(amount) OVER (PARTITION BY department ORDER BY expense_date ROWS UNBOUNDED PRECEDING) as running_total\n",
    "FROM expenses\n",
    "ORDER BY department, expense_date;\n",
    "```\n",
    "**When to Use**: For cumulative metrics, like tracking budget spend or sales over time."
   ]
  },
  {
   "cell_type": "markdown",
   "metadata": {},
   "source": [
    "## 5. NTILE() for Dividing Data into Buckets\n",
    "**Purpose**: Divides rows into N equal buckets (e.g., quartiles, deciles) within a partition, useful for segmentation.\n",
    "\n",
    "**Template**:\n",
    "```sql\n",
    "SELECT column1, column2, metric,\n",
    "       NTILE(N) OVER (PARTITION BY partition_column ORDER BY metric) as bucket\n",
    "FROM table_name;\n",
    "```\n",
    "\n",
    "**Example** (Segment customers into 4 quartiles by purchase amount):\n",
    "```sql\n",
    "SELECT c.customer_name, c.region, SUM(o.purchase_amount) as total_purchases,\n",
    "       NTILE(4) OVER (PARTITION BY c.region ORDER BY SUM(o.purchase_amount) DESC) as quartile\n",
    "FROM customers c\n",
    "JOIN orders o ON c.id = o.customer_id\n",
    "GROUP BY c.customer_name, c.region;\n",
    "```\n",
    "**When to Use**: For customer segmentation or performance banding (e.g., top 25% of sales reps)."
   ]
  },
  {
   "cell_type": "markdown",
   "metadata": {},
   "source": [
    "## 6. LAG()/LEAD() for Comparing Rows\n",
    "**Purpose**: Accesses previous or next row’s data within a partition, great for time-series comparisons.\n",
    "\n",
    "**Template**:\n",
    "```sql\n",
    "SELECT column1, date_column, metric,\n",
    "       LAG(metric) OVER (PARTITION BY partition_column ORDER BY order_column) as previous_value,\n",
    "       LEAD(metric) OVER (PARTITION BY partition_column ORDER BY order_column) as next_value\n",
    "FROM table_name;\n",
    "```\n",
    "\n",
    "**Example** (Compare monthly sales to previous month):\n",
    "```sql\n",
    "SELECT region, month, SUM(sales_amount) as sales,\n",
    "       LAG(SUM(sales_amount)) OVER (PARTITION BY region ORDER BY month) as prev_month_sales\n",
    "FROM sales\n",
    "GROUP BY region, month\n",
    "ORDER BY region, month;\n",
    "```\n",
    "**When to Use**: For month-over-month or sequential comparisons."
   ]
  },
  {
   "cell_type": "markdown",
   "metadata": {},
   "source": [
    "## Prep Tips\n",
    "- **Practice**: Use LeetCode Database (e.g., 'Department Top Three Salaries') or StrataScratch for business-like problems. Aim for 10-15 window function problems.\n",
    "- **Edge Cases**: Handle NULLs, empty partitions, or ties explicitly (e.g., use `COALESCE` or check for zero rows).\n",
    "- **Explain**: During interviews, clarify the partition and order logic (e.g., 'I’m partitioning by region to group sales, ordering by amount for ranking').\n",
    "- **Tools**: Practice in DB-Fiddle or SQLZoo to simulate LeetCode’s SQL environment."
   ]
  }
 ],
 "metadata": {
  "kernelspec": {
   "display_name": "Python 3",
   "language": "python",
   "name": "python3"
  },
  "language_info": {
   "codemirror_mode": {
    "name": "ipython",
    "version": 3
   },
   "file_extension": ".py",
   "mimetype": "text/x-python",
   "name": "python",
   "nbconvert_exporter": "python",
   "pygments_lexer": "ipython3",
   "version": "3.8.0"
  }
 },
 "nbformat": 4,
 "nbformat_minor": 4
}
